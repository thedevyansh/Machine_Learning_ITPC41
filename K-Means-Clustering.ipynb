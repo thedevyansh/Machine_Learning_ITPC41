{
 "cells": [
  {
   "cell_type": "code",
   "execution_count": 27,
   "id": "00ded043",
   "metadata": {},
   "outputs": [
    {
     "name": "stdout",
     "output_type": "stream",
     "text": [
      "data[0]: [100, 5]\n",
      "centers: [[9, 9], [9, 9]] dims: 2\n",
      "[3156, 61] 0\n",
      "[3156, 61] 1\n",
      "centers: [[78.9, 1.525], [9, 9]] dims: 2\n",
      "[3036, 61] 0\n",
      "[3036, 61] 1\n",
      "[120, 0] 0\n",
      "[120, 0] 1\n",
      "centers: [[82.05405405405405, 1.6486486486486487], [40.0, 0.0]] dims: 2\n",
      "[2391, 69] 0\n",
      "[2391, 69] 1\n",
      "[765, -8] 0\n",
      "[765, -8] 1\n",
      "centers: [[95.64, 2.76], [51.0, -0.5333333333333333]] dims: 2\n",
      "[2116, 73] 0\n",
      "[2116, 73] 1\n",
      "[1040, -12] 0\n",
      "[1040, -12] 1\n",
      "centers: [[100.76190476190476, 3.4761904761904763], [54.73684210526316, -0.631578947368421]] dims: 2\n",
      "[2116, 73] 0\n",
      "[2116, 73] 1\n",
      "[1040, -12] 0\n",
      "[1040, -12] 1\n",
      "[[100.76190476190476, 3.4761904761904763], [54.73684210526316, -0.631578947368421]]\n",
      "center: 0 dist: 0.4761904761904763\n",
      "center: 1 dist: 3.6315789473684212\n",
      "0\n"
     ]
    },
    {
     "data": {
      "text/plain": [
       "[<matplotlib.lines.Line2D at 0x7fec1c6aa9a0>,\n",
       " <matplotlib.lines.Line2D at 0x7fec1c6aa880>,\n",
       " <matplotlib.lines.Line2D at 0x7fec1c6aa910>,\n",
       " <matplotlib.lines.Line2D at 0x7fec1c6aa6a0>]"
      ]
     },
     "execution_count": 27,
     "metadata": {},
     "output_type": "execute_result"
    },
    {
     "data": {
      "image/png": "[encoded data removed]",
      "text/plain": [
       "<Figure size 432x288 with 1 Axes>"
      ]
     },
     "metadata": {
      "needs_background": "light"
     },
     "output_type": "display_data"
    }
   ],
   "source": [
    "import numpy as np\n",
    "import matplotlib.pyplot as plt\n",
    "import random\n",
    "import pandas as pd\n",
    "# Use matplotlib in notebook output\n",
    "%matplotlib inline\n",
    "\n",
    "# DEFINE DATA\n",
    "# Data - [average passes, average goals (player goals - opponent goals)]\n",
    "dataset = pd.read_csv(\"datasets/k_means_dataset.csv\",\n",
    "                      names=('player', 'opponent'))\n",
    "X = dataset.values.tolist()\n",
    "\n",
    "# PLOT THE DATA ON 2D GRAPH\n",
    "plotx = []\n",
    "ploty = []\n",
    "for i in range(len(X)):\n",
    "    plotx.append(X[i][0])\n",
    "    ploty.append(X[i][1])\n",
    "plt.plot(plotx, ploty, 'bo')\n",
    "\n",
    "# HELPER FUNCTIONS\n",
    "\n",
    "\n",
    "def random_centers(dim, k):\n",
    "    centers = []\n",
    "    for i in range(k):\n",
    "        center = []\n",
    "        for d in range(dim):\n",
    "            random.seed(32)\n",
    "            rand = random.randint(0, 100)\n",
    "            center.append(rand)\n",
    "        centers.append(center)\n",
    "    return centers\n",
    "\n",
    "# finds the distance of each cluster center from the datapoint\n",
    "def point_clustering(data, centers, dims, first_cluster=False):\n",
    "    for point in data:\n",
    "        nearest_center = 0\n",
    "        nearest_center_dist = None\n",
    "        for i in range(0, len(centers)):\n",
    "            euclidean_dist = 0\n",
    "            for d in range(0, dims):\n",
    "                dist = abs(point[d] - centers[i][d])\n",
    "                euclidean_dist += dist**2\n",
    "            euclidean_dist = np.sqrt(euclidean_dist)\n",
    "            if nearest_center_dist == None:\n",
    "                nearest_center_dist = euclidean_dist\n",
    "                nearest_center = i\n",
    "            elif nearest_center_dist > euclidean_dist:\n",
    "                nearest_center_dist = euclidean_dist\n",
    "                nearest_center = i\n",
    "        if first_cluster:\n",
    "            point.append(nearest_center)\n",
    "        else:\n",
    "            point[-1] = nearest_center\n",
    "    return data\n",
    "\n",
    "# computes the centroid\n",
    "def mean_center(data, centers, dims):\n",
    "    print('centers:', centers, 'dims:', dims)\n",
    "    new_centers = []\n",
    "    for i in range(len(centers)):\n",
    "        new_center = []\n",
    "        n_of_points = 0\n",
    "        total_of_points = []\n",
    "        for point in data:\n",
    "            if point[-1] == i:\n",
    "                n_of_points += 1\n",
    "                for dim in range(0, dims):\n",
    "                    if dim < len(total_of_points):\n",
    "                        total_of_points[dim] += point[dim]\n",
    "                    else:\n",
    "                        total_of_points.append(point[dim])\n",
    "        if len(total_of_points) != 0:\n",
    "            for dim in range(0, dims):\n",
    "                print(total_of_points, dim)\n",
    "                new_center.append(total_of_points[dim]/n_of_points)\n",
    "            new_centers.append(new_center)\n",
    "        else:\n",
    "            new_centers.append(centers[i])\n",
    "\n",
    "    return new_centers\n",
    "\n",
    "# H-MEANS CLUSTERING ALGORITHM\n",
    "# Gets data and k, returns a list of center points.\n",
    "\n",
    "\n",
    "def train_k_means_clustering(data, k=2, epochs=5):\n",
    "    dims = len(data[0])\n",
    "    print('data[0]:', data[0])\n",
    "    centers = random_centers(dims, k)\n",
    "\n",
    "    clustered_data = point_clustering(data, centers, dims, first_cluster=True)\n",
    "\n",
    "    for i in range(epochs):\n",
    "        centers = mean_center(clustered_data, centers, dims)\n",
    "        clustered_data = point_clustering(\n",
    "            data, centers, dims, first_cluster=False)\n",
    "\n",
    "    return centers\n",
    "\n",
    "\n",
    "def predict_k_means_clustering(point, centers):\n",
    "    dims = len(point)\n",
    "    center_dims = len(centers[0])\n",
    "\n",
    "    if dims != center_dims:\n",
    "        raise ValueError('Point given for prediction have', dims,\n",
    "                         'dimensions but centers have', center_dims, 'dimensions')\n",
    "\n",
    "    nearest_center = None\n",
    "    nearest_dist = None\n",
    "\n",
    "    for i in range(len(centers)):\n",
    "        euclidean_dist = 0\n",
    "        for dim in range(1, dims):\n",
    "            dist = point[dim] - centers[i][dim]\n",
    "            euclidean_dist += dist**2\n",
    "        euclidean_dist = np.sqrt(euclidean_dist)\n",
    "        if nearest_dist == None:\n",
    "            nearest_dist = euclidean_dist\n",
    "            nearest_center = i\n",
    "        elif nearest_dist > euclidean_dist:\n",
    "            nearest_dist = euclidean_dist\n",
    "            nearest_center = i\n",
    "        print('center:', i, 'dist:', euclidean_dist)\n",
    "\n",
    "    return nearest_center\n",
    "\n",
    "\n",
    "centers = train_k_means_clustering(X, k=2, epochs=5)\n",
    "print(centers)\n",
    "\n",
    "point = [110, 3]\n",
    "print(predict_k_means_clustering(point, centers))\n",
    "\n",
    "plt.plot(plotx, ploty, 'bo', centers[0][0], centers[0][1], 'ro',\n",
    "         centers[1][0], centers[1][1], 'go', point[0], point[1], 'yo')\n"
   ]
  },
  {
   "cell_type": "code",
   "execution_count": 17,
   "id": "62d9ae7b",
   "metadata": {},
   "outputs": [],
   "source": [
    "import numpy as np\n",
    "import matplotlib.pyplot as plt\n",
    "import random\n",
    "import pandas as pd\n",
    "# Use matplotlib in notebook output\n",
    "%matplotlib inline"
   ]
  },
  {
   "cell_type": "code",
   "execution_count": 18,
   "id": "4b2d6797",
   "metadata": {},
   "outputs": [],
   "source": [
    "# DEFINE DATA\n",
    "\n",
    "# Data - [average passes, average goals (player goals - opponent goals)]\n",
    "dataset=pd.read_csv(\"datasets/k_means_dataset.csv\",names=('player','opponent'))\n",
    "X = dataset.values.tolist()"
   ]
  },
  {
   "cell_type": "code",
   "execution_count": 19,
   "id": "e67fef0f",
   "metadata": {},
   "outputs": [
    {
     "data": {
      "text/plain": [
       "[<matplotlib.lines.Line2D at 0x7fec0b55e220>]"
      ]
     },
     "execution_count": 19,
     "metadata": {},
     "output_type": "execute_result"
    },
    {
     "data": {
      "image/png": "[encoded data removed]",
      "text/plain": [
       "<Figure size 432x288 with 1 Axes>"
      ]
     },
     "metadata": {
      "needs_background": "light"
     },
     "output_type": "display_data"
    }
   ],
   "source": [
    "# PLOT THE DATA ON 2D GRAPH\n",
    "\n",
    "plotx = []\n",
    "ploty = []\n",
    "for i in range(len(X)):\n",
    "    plotx.append(X[i][0])\n",
    "    ploty.append(X[i][1])\n",
    "plt.plot(plotx,ploty, 'bo')"
   ]
  },
  {
   "cell_type": "code",
   "execution_count": 20,
   "id": "fda9c24c",
   "metadata": {},
   "outputs": [],
   "source": [
    "# HELPER FUNCTIONS\n",
    "\n",
    "def random_centers(dim,k):\n",
    "    centers = []\n",
    "    for i in range(k):\n",
    "        center = []\n",
    "        for d in range(dim):\n",
    "            random.seed(32)\n",
    "            rand = random.randint(0,100)\n",
    "            center.append(rand)\n",
    "        centers.append(center)\n",
    "    return centers\n",
    "\n",
    "def point_clustering(data, centers, dims, first_cluster=False):\n",
    "    for point in data:\n",
    "        nearest_center = 0\n",
    "        nearest_center_dist = None\n",
    "        for i in range(0, len(centers)):\n",
    "            euclidean_dist = 0\n",
    "            for d in range(0, dims):\n",
    "                dist = abs(point[d] - centers[i][d])\n",
    "                euclidean_dist += dist\n",
    "            euclidean_dist = np.sqrt(euclidean_dist)\n",
    "            if nearest_center_dist == None:\n",
    "                nearest_center_dist = euclidean_dist\n",
    "                nearest_center = i\n",
    "            elif nearest_center_dist > euclidean_dist:\n",
    "                nearest_center_dist = euclidean_dist\n",
    "                nearest_center = i\n",
    "        if first_cluster:\n",
    "            point.append(nearest_center)\n",
    "        else:\n",
    "            point[-1] = nearest_center\n",
    "    return data\n",
    "\n",
    "def mean_center(data, centers, dims):\n",
    "    print('centers:', centers, 'dims:', dims)\n",
    "    new_centers = []\n",
    "    for i in range(len(centers)):\n",
    "        new_center = []\n",
    "        n_of_points = 0\n",
    "        total_of_points = []\n",
    "        for point in data:\n",
    "            if point[-1] == i:\n",
    "                n_of_points += 1\n",
    "                for dim in range(0,dims):\n",
    "                    if dim < len(total_of_points):\n",
    "                        total_of_points[dim] += point[dim]\n",
    "                    else:\n",
    "                        total_of_points.append(point[dim])\n",
    "        if len(total_of_points) != 0:\n",
    "            for dim in range(0,dims):\n",
    "                print(total_of_points, dim)\n",
    "                new_center.append(total_of_points[dim]/n_of_points)\n",
    "            new_centers.append(new_center)\n",
    "        else: \n",
    "            new_centers.append(centers[i])\n",
    "        \n",
    "            \n",
    "    return new_centers"
   ]
  },
  {
   "cell_type": "code",
   "execution_count": 21,
   "id": "b34d6688",
   "metadata": {},
   "outputs": [],
   "source": [
    "# K-MEANS CLUSTERING ALGORITHM\n",
    "\n",
    "# Gets data and k, returns a list of center points.\n",
    "def train_k_means_clustering(data, k=2, epochs=5):\n",
    "    dims = len(data[0])\n",
    "    print('data[0]:',data[0])\n",
    "    centers = random_centers(dims,k)\n",
    "    \n",
    "    clustered_data = point_clustering(data, centers, dims, first_cluster=True)\n",
    "\n",
    "    for i in range(epochs):\n",
    "        centers = mean_center(clustered_data, centers, dims)\n",
    "        clustered_data = point_clustering(data, centers, dims, first_cluster=False)\n",
    "    \n",
    "    return centers\n",
    "\n",
    "def predict_k_means_clustering(point, centers):\n",
    "    dims = len(point)\n",
    "    center_dims = len(centers[0])\n",
    "    \n",
    "    if dims != center_dims:\n",
    "        raise ValueError('Point given for prediction have', dims, 'dimensions but centers have', center_dims, 'dimensions')\n",
    "\n",
    "    nearest_center = None\n",
    "    nearest_dist = None\n",
    "    \n",
    "    for i in range(len(centers)):\n",
    "        euclidean_dist = 0\n",
    "        for dim in range(1, dims):\n",
    "            dist = point[dim] - centers[i][dim]\n",
    "            euclidean_dist += dist**2\n",
    "        euclidean_dist = np.sqrt(euclidean_dist)\n",
    "        if nearest_dist == None:\n",
    "            nearest_dist = euclidean_dist\n",
    "            nearest_center = i\n",
    "        elif nearest_dist > euclidean_dist:\n",
    "            nearest_dist = euclidean_dist\n",
    "            nearest_center = i\n",
    "        print('center:',i, 'dist:',euclidean_dist)\n",
    "            \n",
    "    return nearest_center"
   ]
  },
  {
   "cell_type": "code",
   "execution_count": 22,
   "id": "ea244c50",
   "metadata": {},
   "outputs": [
    {
     "name": "stdout",
     "output_type": "stream",
     "text": [
      "data[0]: [100, 5]\n",
      "centers: [[9, 9], [9, 9]] dims: 2\n",
      "[3156, 61] 0\n",
      "[3156, 61] 1\n",
      "centers: [[78.9, 1.525], [9, 9]] dims: 2\n",
      "[3036, 61] 0\n",
      "[3036, 61] 1\n",
      "[120, 0] 0\n",
      "[120, 0] 1\n",
      "centers: [[82.05405405405405, 1.6486486486486487], [40.0, 0.0]] dims: 2\n",
      "[2391, 69] 0\n",
      "[2391, 69] 1\n",
      "[765, -8] 0\n",
      "[765, -8] 1\n",
      "centers: [[95.64, 2.76], [51.0, -0.5333333333333333]] dims: 2\n",
      "[2116, 73] 0\n",
      "[2116, 73] 1\n",
      "[1040, -12] 0\n",
      "[1040, -12] 1\n",
      "centers: [[100.76190476190476, 3.4761904761904763], [54.73684210526316, -0.631578947368421]] dims: 2\n",
      "[2116, 73] 0\n",
      "[2116, 73] 1\n",
      "[1040, -12] 0\n",
      "[1040, -12] 1\n"
     ]
    }
   ],
   "source": [
    "centers = train_k_means_clustering(X, k=2, epochs=5)"
   ]
  },
  {
   "cell_type": "code",
   "execution_count": 23,
   "id": "aab1f3eb",
   "metadata": {},
   "outputs": [
    {
     "name": "stdout",
     "output_type": "stream",
     "text": [
      "[[100.76190476190476, 3.4761904761904763], [54.73684210526316, -0.631578947368421]]\n"
     ]
    }
   ],
   "source": [
    "print(centers)"
   ]
  }
 ],
 "metadata": {
  "kernelspec": {
   "display_name": "Python 3 (ipykernel)",
   "language": "python",
   "name": "python3"
  },
  "language_info": {
   "codemirror_mode": {
    "name": "ipython",
    "version": 3
   },
   "file_extension": ".py",
   "mimetype": "text/x-python",
   "name": "python",
   "nbconvert_exporter": "python",
   "pygments_lexer": "ipython3",
   "version": "3.9.6"
  },
  "vscode": {
   "interpreter": {
    "hash": "aee8b7b246df8f9039afb4144a1f6fd8d2ca17a180786b69acc140d282b71a49"
   }
  }
 },
 "nbformat": 4,
 "nbformat_minor": 5
}
