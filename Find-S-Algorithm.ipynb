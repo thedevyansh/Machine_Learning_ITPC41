{
 "cells": [
  {
   "cell_type": "code",
   "execution_count": 1,
   "id": "e2290e8e",
   "metadata": {},
   "outputs": [],
   "source": [
    "import csv"
   ]
  },
  {
   "cell_type": "code",
   "execution_count": 3,
   "id": "0af970f0",
   "metadata": {},
   "outputs": [
    {
     "name": "stdout",
     "output_type": "stream",
     "text": [
      "\n",
      "The given training dataset is\n",
      "\n",
      "['green', 'hard', 'no', 'wrinkled', 'yes']\n",
      "['green', 'hard', 'yes', 'smooth', 'no']\n",
      "['brown', 'soft', 'no', 'wrinkled', 'no']\n",
      "['orange', 'hard', 'no', 'wrinkled', 'yes']\n",
      "['green', 'soft', 'yes', 'smooth', 'yes']\n",
      "['green', 'hard', 'yes', 'wrinkled', 'yes']\n",
      "['orange', 'hard', 'no', 'wrinkled', 'yes']\n",
      "\n",
      "The most specific hypothesis is\n",
      "\n",
      "['phi', 'phi', 'phi', 'phi']\n",
      "\n",
      "Find S: Finding a Maximally Specific Hypothesis\n",
      "\n",
      "\n",
      "For Training record: 0 the hypothesis is ['green', 'hard', 'no', 'wrinkled']\n",
      "\n",
      "For Training record: 1 the hypothesis is ['green', 'hard', 'no', 'wrinkled']\n",
      "\n",
      "For Training record: 2 the hypothesis is ['green', 'hard', 'no', 'wrinkled']\n",
      "\n",
      "For Training record: 3 the hypothesis is ['?', 'hard', 'no', 'wrinkled']\n",
      "\n",
      "For Training record: 4 the hypothesis is ['?', '?', '?', '?']\n",
      "\n",
      "For Training record: 5 the hypothesis is ['?', '?', '?', '?']\n",
      "\n",
      "For Training record: 6 the hypothesis is ['?', '?', '?', '?']\n"
     ]
    }
   ],
   "source": [
    "num_of_attributes = 4\n",
    "\n",
    "def read_data(filename):\n",
    "    with open(filename, 'r') as csvfile:\n",
    "        datareader = csv.reader(csvfile, delimiter=',')\n",
    "        trainingdata = []\n",
    "        for row in datareader:\n",
    "            trainingdata.append(row)\n",
    "        return trainingdata\n",
    "    \n",
    "data = read_data('datasets/find_s_dataset.csv')\n",
    "\n",
    "print(\"\\nThe given training dataset is\\n\")\n",
    "for row in data:\n",
    "    print(row)\n",
    "    \n",
    "print(\"\\nThe most specific hypothesis is\\n\")\n",
    "hypothesis = ['phi'] * num_of_attributes\n",
    "print(hypothesis)\n",
    "\n",
    "for i in range(0, num_of_attributes):\n",
    "    hypothesis[i] = data[0][i]\n",
    "\n",
    "print(\"\\nFind S: Finding a Maximally Specific Hypothesis\\n\")\n",
    "for i in range(0, len(data)):\n",
    "    if data[i][num_of_attributes] == 'yes':\n",
    "        for j in range(0, num_of_attributes):\n",
    "            if data[i][j] != hypothesis[j]:\n",
    "                hypothesis[j] = '?'\n",
    "            else :\n",
    "                hypothesis[j] = data[i][j]\n",
    "    print(\"\\nFor Training record: {0} the hypothesis is {1}\".format(i, hypothesis))"
   ]
  }
 ],
 "metadata": {
  "kernelspec": {
   "display_name": "Python 3 (ipykernel)",
   "language": "python",
   "name": "python3"
  },
  "language_info": {
   "codemirror_mode": {
    "name": "ipython",
    "version": 3
   },
   "file_extension": ".py",
   "mimetype": "text/x-python",
   "name": "python",
   "nbconvert_exporter": "python",
   "pygments_lexer": "ipython3",
   "version": "3.9.12"
  }
 },
 "nbformat": 4,
 "nbformat_minor": 5
}
