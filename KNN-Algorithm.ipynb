{
 "cells": [
  {
   "cell_type": "code",
   "execution_count": 1,
   "id": "19027ef1",
   "metadata": {
    "scrolled": true
   },
   "outputs": [],
   "source": [
    "import numpy as np\n",
    "import pandas as pd\n",
    "import math"
   ]
  },
  {
   "cell_type": "code",
   "execution_count": 2,
   "id": "8f5d5153",
   "metadata": {},
   "outputs": [
    {
     "name": "stdout",
     "output_type": "stream",
     "text": [
      "    ingredient  sweet  crunch  food Type\n",
      "0        Grape      8       5      fruit\n",
      "1  green beans      3       7  vegetable\n",
      "2         nuts      3       6    protein\n",
      "3      oranges      7       3      fruit\n",
      "\n",
      "\n",
      "distance of all ingredient is : \n",
      "\n",
      "[(2.23606797749979, 'fruit'), (4.242640687119285, 'vegetable'), (3.605551275463989, 'protein'), (1.4142135623730951, 'fruit')]\n",
      "\n",
      "\n",
      "K smallest distance is : \n",
      "\n",
      "[(1.4142135623730951, 'fruit'), (2.23606797749979, 'fruit'), (3.605551275463989, 'protein')]\n",
      "\n",
      "\n",
      "Type of  tomato  is :  fruit\n"
     ]
    }
   ],
   "source": [
    "file='datasets/knn_dataset.csv'\n",
    "df=pd.read_csv(file)\n",
    "print(df)\n",
    "print('\\n')\n",
    "\n",
    "k=3\n",
    "p=['tomato',6,4]\n",
    "\n",
    "distance=[]\n",
    "ingredient=df['ingredient'].values\n",
    "sweet=df['sweet'].values\n",
    "crunch=df['crunch'].values\n",
    "food=df['food Type'].values\n",
    "\n",
    "for i in range(0,len(sweet)):\n",
    "    euclidean_distance = math.sqrt((sweet[i]-p[1])**2 +(crunch[i]-p[2])**2)\n",
    "    distance.append((euclidean_distance,food[i]))\n",
    "\n",
    "print('distance of all ingredient is : \\n')\n",
    "print(distance)\n",
    "print('\\n')\n",
    "\n",
    "distance = sorted(distance)[:k]\n",
    "print('K smallest distance is : \\n')\n",
    "print(distance)\n",
    "print('\\n')\n",
    "\n",
    "ans=[]\n",
    "for i in range(k):\n",
    "    ans.append(distance[i][1])\n",
    "\n",
    "result=max(set(ans), key = ans.count)\n",
    "print('Type of ',p[0],' is : ',result)"
   ]
  }
 ],
 "metadata": {
  "kernelspec": {
   "display_name": "Python 3.9.6 64-bit",
   "language": "python",
   "name": "python3"
  },
  "language_info": {
   "codemirror_mode": {
    "name": "ipython",
    "version": 3
   },
   "file_extension": ".py",
   "mimetype": "text/x-python",
   "name": "python",
   "nbconvert_exporter": "python",
   "pygments_lexer": "ipython3",
   "version": "3.9.6"
  },
  "vscode": {
   "interpreter": {
    "hash": "aee8b7b246df8f9039afb4144a1f6fd8d2ca17a180786b69acc140d282b71a49"
   }
  }
 },
 "nbformat": 4,
 "nbformat_minor": 5
}
