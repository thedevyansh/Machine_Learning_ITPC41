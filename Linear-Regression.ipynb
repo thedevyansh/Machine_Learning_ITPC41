{
 "cells": [
  {
   "cell_type": "code",
   "execution_count": 5,
   "id": "70b9cb2e",
   "metadata": {},
   "outputs": [
    {
     "name": "stdout",
     "output_type": "stream",
     "text": [
      "    Hours  Scores\n",
      "0     2.5      21\n",
      "1     5.1      47\n",
      "2     3.2      27\n",
      "3     8.5      75\n",
      "4     3.5      30\n",
      "5     1.5      20\n",
      "6     9.2      88\n",
      "7     5.5      60\n",
      "8     8.3      81\n",
      "9     2.7      25\n",
      "10    7.7      85\n",
      "11    5.9      62\n",
      "12    4.5      41\n",
      "13    3.3      42\n",
      "14    1.1      17\n",
      "15    8.9      95\n",
      "16    2.5      30\n",
      "17    1.9      24\n",
      "18    6.1      67\n",
      "19    7.4      69\n",
      "20    2.7      30\n",
      "21    4.8      54\n",
      "22    3.8      35\n",
      "23    6.9      76\n",
      "24    7.8      86\n",
      "\n",
      "Estimated coefficients:\n",
      "c = 2.4836734053732172\n",
      "m = 9.775803390787466\n"
     ]
    },
    {
     "data": {
      "image/png": "[encoded data removed]",
      "text/plain": [
       "<Figure size 432x288 with 1 Axes>"
      ]
     },
     "metadata": {
      "needs_background": "light"
     },
     "output_type": "display_data"
    }
   ],
   "source": [
    "import numpy as np\n",
    "import pandas as pd\n",
    "import matplotlib.pyplot as plt\n",
    "\n",
    "\n",
    "def estimate_coef(x, y):\n",
    "    n = np.size(x)\n",
    "    m_x = np.mean(x)\n",
    "    m_y = np.mean(y)\n",
    "    SS_xy = np.sum(y*x) - n*m_y*m_x\n",
    "    SS_xx = np.sum(x*x) - n*m_x*m_x\n",
    "    m = SS_xy / SS_xx\n",
    "    c = m_y - m*m_x\n",
    "    return (c, m)\n",
    "\n",
    "\n",
    "def plot_regression_line(x, y, b):\n",
    "    plt.scatter(x, y, color=\"m\", marker=\"o\", s=30)\n",
    "    y_pred = b[0] + b[1]*x\n",
    "    plt.plot(x, y_pred, color=\"g\")\n",
    "    plt.xlabel('Hours')\n",
    "    plt.ylabel('Scores')\n",
    "    plt.show()\n",
    "\n",
    "\n",
    "file = 'datasets/linear_regression_student_scores.csv'\n",
    "df = pd.read_csv(file)\n",
    "x = df['Hours'].values\n",
    "y = df['Scores'].values\n",
    "b = estimate_coef(x, y)\n",
    "\n",
    "print(df)\n",
    "print(\"\\nEstimated coefficients:\\nc = {}\\nm = {}\".format(b[0], b[1]))\n",
    "\n",
    "plot_regression_line(x, y, b)\n"
   ]
  },
  {
   "cell_type": "code",
   "execution_count": 2,
   "id": "615775dd",
   "metadata": {},
   "outputs": [],
   "source": [
    "import numpy as np \n",
    "import pandas as pd\n",
    "import matplotlib.pyplot as plt "
   ]
  },
  {
   "cell_type": "code",
   "execution_count": 3,
   "id": "e845f924",
   "metadata": {},
   "outputs": [],
   "source": [
    "def estimate_coef(x, y): \n",
    "    n = np.size(x)\n",
    "    m_x = np.mean(x) \n",
    "    m_y = np.mean(y) \n",
    "    SS_xy = np.sum(y*x) - n*m_y*m_x \n",
    "    SS_xx = np.sum(x*x) - n*m_x*m_x \n",
    "    m = SS_xy / SS_xx \n",
    "    c = m_y - m*m_x \n",
    "    return (c, m) \n",
    "\n",
    "def plot_regression_line(x, y, b): \n",
    "    plt.scatter(x, y, color = \"m\", marker = \"o\", s = 30)  \n",
    "    y_pred = b[0] + b[1]*x \n",
    "    plt.plot(x, y_pred, color = \"g\") \n",
    "    plt.xlabel('Hours') \n",
    "    plt.ylabel('Scores') \n",
    "    plt.show() "
   ]
  },
  {
   "cell_type": "code",
   "execution_count": 4,
   "id": "42387434",
   "metadata": {},
   "outputs": [
    {
     "name": "stdout",
     "output_type": "stream",
     "text": [
      "    Hours  Scores\n",
      "0     2.5      21\n",
      "1     5.1      47\n",
      "2     3.2      27\n",
      "3     8.5      75\n",
      "4     3.5      30\n",
      "5     1.5      20\n",
      "6     9.2      88\n",
      "7     5.5      60\n",
      "8     8.3      81\n",
      "9     2.7      25\n",
      "10    7.7      85\n",
      "11    5.9      62\n",
      "12    4.5      41\n",
      "13    3.3      42\n",
      "14    1.1      17\n",
      "15    8.9      95\n",
      "16    2.5      30\n",
      "17    1.9      24\n",
      "18    6.1      67\n",
      "19    7.4      69\n",
      "20    2.7      30\n",
      "21    4.8      54\n",
      "22    3.8      35\n",
      "23    6.9      76\n",
      "24    7.8      86\n",
      "\n",
      "Estimated coefficients:\n",
      "c = 2.4836734053732172\n",
      "m = 9.775803390787466\n"
     ]
    },
    {
     "data": {
      "image/png": "[encoded data removed]",
      "text/plain": [
       "<Figure size 432x288 with 1 Axes>"
      ]
     },
     "metadata": {
      "needs_background": "light"
     },
     "output_type": "display_data"
    }
   ],
   "source": [
    "file='datasets/linear_regression_student_scores.csv'\n",
    "df=pd.read_csv(file)\n",
    "x = df['Hours'].values \n",
    "y = df['Scores'].values \n",
    "b = estimate_coef(x, y) \n",
    "\n",
    "print(df)\n",
    "print(\"\\nEstimated coefficients:\\nc = {}\\nm = {}\".format(b[0], b[1])) \n",
    "\n",
    "plot_regression_line(x, y, b) "
   ]
  },
  {
   "cell_type": "code",
   "execution_count": 4,
   "id": "243d7579",
   "metadata": {},
   "outputs": [
    {
     "name": "stdout",
     "output_type": "stream",
     "text": [
      "    Hours  Scores\n",
      "0     2.5      21\n",
      "1     5.1      47\n",
      "2     3.2      27\n",
      "3     8.5      75\n",
      "4     3.5      30\n",
      "5     1.5      20\n",
      "6     9.2      88\n",
      "7     5.5      60\n",
      "8     8.3      81\n",
      "9     2.7      25\n",
      "10    7.7      85\n",
      "11    5.9      62\n",
      "12    4.5      41\n",
      "13    3.3      42\n",
      "14    1.1      17\n",
      "15    8.9      95\n",
      "16    2.5      30\n",
      "17    1.9      24\n",
      "18    6.1      67\n",
      "19    7.4      69\n",
      "20    2.7      30\n",
      "21    4.8      54\n",
      "22    3.8      35\n",
      "23    6.9      76\n",
      "24    7.8      86\n",
      "\n",
      "Estimated coefficients:\n",
      "c = 2.4836734053732172\n",
      "m = 9.775803390787466\n"
     ]
    },
    {
     "data": {
      "image/png": "[encoded data removed]",
      "text/plain": [
       "<Figure size 432x288 with 1 Axes>"
      ]
     },
     "metadata": {
      "needs_background": "light"
     },
     "output_type": "display_data"
    }
   ],
   "source": [
    "import numpy as np \n",
    "import pandas as pd\n",
    "import matplotlib.pyplot as plt \n",
    "\n",
    "file='datasets/linear_regression_student_scores.csv'\n",
    "df=pd.read_csv(file)\n",
    "x = df['Hours'].values \n",
    "y = df['Scores'].values\n",
    "\n",
    "n = np.size(x)\n",
    "m_x = np.mean(x) \n",
    "m_y = np.mean(y) \n",
    "SS_xy = np.sum(y*x) - n*m_y*m_x \n",
    "SS_xx = np.sum(x*x) - n*m_x*m_x \n",
    "m = SS_xy / SS_xx \n",
    "c = m_y - m*m_x \n",
    "\n",
    "print(df)\n",
    "print(\"\\nEstimated coefficients:\\nc = {}\\nm = {}\".format(c, m)) \n",
    "\n",
    "plot_regression_line(x, y, (c,m)) "
   ]
  },
  {
   "cell_type": "code",
   "execution_count": null,
   "id": "633b44b9",
   "metadata": {},
   "outputs": [],
   "source": []
  }
 ],
 "metadata": {
  "kernelspec": {
   "display_name": "Python 3 (ipykernel)",
   "language": "python",
   "name": "python3"
  },
  "language_info": {
   "codemirror_mode": {
    "name": "ipython",
    "version": 3
   },
   "file_extension": ".py",
   "mimetype": "text/x-python",
   "name": "python",
   "nbconvert_exporter": "python",
   "pygments_lexer": "ipython3",
   "version": "3.9.6"
  },
  "vscode": {
   "interpreter": {
    "hash": "aee8b7b246df8f9039afb4144a1f6fd8d2ca17a180786b69acc140d282b71a49"
   }
  }
 },
 "nbformat": 4,
 "nbformat_minor": 5
}
